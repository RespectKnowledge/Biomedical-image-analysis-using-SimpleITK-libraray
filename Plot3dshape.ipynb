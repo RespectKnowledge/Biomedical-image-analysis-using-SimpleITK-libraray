{
 "cells": [
  {
   "cell_type": "markdown",
   "metadata": {},
   "source": [
    "# itkwidgets library is wonderful to check 3D graph of your complete volume\n",
    "you can install using the following commands\n",
    "pip install itkwidgets\n",
    "\n",
    "or with conda:\n",
    "\n",
    "conda install -c conda-forge itkwidgets\n",
    "\n",
    "For Jupyter Lab, additionally run:\n",
    "\n",
    "jupyter labextension install @jupyter-widgets/jupyterlab-manager itk-jupyter-widgets\n",
    "\n"
   ]
  },
  {
   "cell_type": "markdown",
   "metadata": {},
   "source": [
    "# Usage\n",
    "\n",
    "In Jupyter, import the view function:"
   ]
  },
  {
   "cell_type": "code",
   "execution_count": 19,
   "metadata": {},
   "outputs": [],
   "source": [
    "from itkwidgets import view\n",
    "#Then, call the view function at the end of a cell, passing in the image to examine:\n",
    "view(image)"
   ]
  },
  {
   "cell_type": "code",
   "execution_count": null,
   "metadata": {},
   "outputs": [],
   "source": [
    "#For information on additional options, see the view function docstring:\n",
    "\n",
    "view?"
   ]
  },
  {
   "cell_type": "code",
   "execution_count": 1,
   "metadata": {},
   "outputs": [
    {
     "name": "stdout",
     "output_type": "stream",
     "text": [
      "Collecting itk-io\n",
      "  Downloading https://files.pythonhosted.org/packages/e2/1a/e242bf8403157859ec38f0e5439745e2a17a2d6f31632d3cf267d46b2082/itk_io-4.13.2.post1-cp36-cp36m-win_amd64.whl (5.4MB)\n",
      "Requirement already satisfied: itk-core in c:\\users\\moona\\anaconda3\\envs\\testpythorch\\lib\\site-packages (from itk-io) (4.13.2.post1)\n",
      "Installing collected packages: itk-io\n",
      "Successfully installed itk-io-4.13.2.post1\n"
     ]
    }
   ],
   "source": [
    "# Install dependencies for this example\n",
    "# Note: This does not include itk-jupyter-widgets, itself\n",
    "import sys\n",
    "!{sys.executable} -m pip install itk-io"
   ]
  },
  {
   "cell_type": "code",
   "execution_count": 4,
   "metadata": {},
   "outputs": [
    {
     "data": {
      "application/vnd.jupyter.widget-view+json": {
       "model_id": "89cc82f1d8604d0aa123938f892e7af1",
       "version_major": 2,
       "version_minor": 0
      },
      "text/plain": [
       "Viewer(gradient_opacity=0.22, rendered_image=<itkImagePython.itkImageUC3; proxy of <Swig Object of type 'itkIm…"
      ]
     },
     "metadata": {},
     "output_type": "display_data"
    }
   ],
   "source": [
    "import itk\n",
    "\n",
    "from itkwidgets import view\n",
    "\n",
    "file_name='C:\\\\Users\\\\moona\\\\Desktop\\\\KerasSegmentationmodelsforbio\\\\GTimage\\\\GT.nii' # you can pass your volume dataset as nifty or other format\n",
    "image = itk.imread(file_name) # read nifty volume \n",
    "view(image) # simply view your 3d volume"
   ]
  },
  {
   "cell_type": "code",
   "execution_count": 20,
   "metadata": {},
   "outputs": [
    {
     "data": {
      "application/vnd.jupyter.widget-view+json": {
       "model_id": "4376f5fbb3134fda8f7061f361dc6103",
       "version_major": 2,
       "version_minor": 0
      },
      "text/plain": [
       "Viewer(gradient_opacity=0.22, rendered_image=<itkImagePython.itkImageUC3; proxy of <Swig Object of type 'itkIm…"
      ]
     },
     "metadata": {},
     "output_type": "display_data"
    }
   ],
   "source": [
    "import itk\n",
    "\n",
    "from itkwidgets import view\n",
    "\n",
    "file_name='C:\\\\Users\\\\moona\\\\Desktop\\\\KerasSegmentationmodelsforbio\\\\GTimage\\\\mask-1.nii' # you can pass your volume dataset as nifty or other format\n",
    "image = itk.imread(file_name) # read nifty volume \n",
    "view(image) # simply view your 3d volume"
   ]
  },
  {
   "cell_type": "code",
   "execution_count": 21,
   "metadata": {},
   "outputs": [
    {
     "data": {
      "application/vnd.jupyter.widget-view+json": {
       "model_id": "32ef5c2a3a304ffdab3422094135dd30",
       "version_major": 2,
       "version_minor": 0
      },
      "text/plain": [
       "Viewer(gradient_opacity=0.22, rendered_image=<itkImagePython.itkImageUC3; proxy of <Swig Object of type 'itkIm…"
      ]
     },
     "metadata": {},
     "output_type": "display_data"
    }
   ],
   "source": [
    "import itk\n",
    "\n",
    "from itkwidgets import view\n",
    "\n",
    "file_name='C:\\\\Users\\\\moona\\\\Desktop\\\\KerasSegmentationmodelsforbio\\\\GTimage\\\\mask-28.nii' # you can pass your volume dataset as nifty or other format\n",
    "image = itk.imread(file_name) # read nifty volume \n",
    "view(image) # simply view your 3d volume"
   ]
  },
  {
   "cell_type": "code",
   "execution_count": 22,
   "metadata": {},
   "outputs": [
    {
     "data": {
      "application/vnd.jupyter.widget-view+json": {
       "model_id": "dec43af68a0647bd8afa871ad8d3f78a",
       "version_major": 2,
       "version_minor": 0
      },
      "text/plain": [
       "Viewer(gradient_opacity=0.22, rendered_image=<itkImagePython.itkImageUC3; proxy of <Swig Object of type 'itkIm…"
      ]
     },
     "metadata": {},
     "output_type": "display_data"
    }
   ],
   "source": [
    "import itk\n",
    "\n",
    "from itkwidgets import view\n",
    "\n",
    "file_name='C:\\\\Users\\\\moona\\\\Desktop\\\\KerasSegmentationmodelsforbio\\\\GTimage\\\\mask-30.nii' # you can pass your volume dataset as nifty or other format\n",
    "image = itk.imread(file_name) # read nifty volume \n",
    "view(image) # simply view your 3d volume"
   ]
  },
  {
   "cell_type": "code",
   "execution_count": null,
   "metadata": {},
   "outputs": [],
   "source": []
  },
  {
   "cell_type": "code",
   "execution_count": null,
   "metadata": {},
   "outputs": [],
   "source": []
  },
  {
   "cell_type": "code",
   "execution_count": 5,
   "metadata": {},
   "outputs": [
    {
     "name": "stdout",
     "output_type": "stream",
     "text": [
      "Requirement already satisfied: scipy in c:\\users\\moona\\anaconda3\\envs\\testpythorch\\lib\\site-packages (1.2.1)\n",
      "Requirement already satisfied: numpy>=1.8.2 in c:\\users\\moona\\anaconda3\\envs\\testpythorch\\lib\\site-packages (from scipy) (1.15.4)\n"
     ]
    }
   ],
   "source": [
    "# Install dependencies for this example\n",
    "# Note: This does not include itk-jupyter-widgets, itself\n",
    "import sys\n",
    "!{sys.executable} -m pip install scipy"
   ]
  },
  {
   "cell_type": "code",
   "execution_count": 6,
   "metadata": {},
   "outputs": [],
   "source": [
    "import scipy.misc\n",
    "import numpy as np\n",
    "\n",
    "from itkwidgets import view"
   ]
  },
  {
   "cell_type": "code",
   "execution_count": 7,
   "metadata": {},
   "outputs": [
    {
     "data": {
      "text/plain": [
       "array([[ 83,  83,  83, ..., 117, 117, 117],\n",
       "       [ 82,  82,  83, ..., 117, 117, 117],\n",
       "       [ 80,  81,  83, ..., 117, 117, 117],\n",
       "       ...,\n",
       "       [178, 178, 178, ...,  57,  59,  57],\n",
       "       [178, 178, 178, ...,  56,  57,  57],\n",
       "       [178, 178, 178, ...,  57,  57,  58]])"
      ]
     },
     "execution_count": 7,
     "metadata": {},
     "output_type": "execute_result"
    }
   ],
   "source": [
    "# Get 2D image data stored as a NumPy array\n",
    "ascent = scipy.misc.ascent()\n",
    "ascent"
   ]
  },
  {
   "cell_type": "code",
   "execution_count": 8,
   "metadata": {},
   "outputs": [],
   "source": [
    "# Ascent has a range of values from 0 to 255, but it is stored with a int64 dtype\n",
    "ascent = ascent.astype(np.uint8)"
   ]
  },
  {
   "cell_type": "code",
   "execution_count": 9,
   "metadata": {},
   "outputs": [
    {
     "data": {
      "application/vnd.jupyter.widget-view+json": {
       "model_id": "f03f813a6c2f4d1ea20f8819d230bf93",
       "version_major": 2,
       "version_minor": 0
      },
      "text/plain": [
       "Viewer(gradient_opacity=0.22, rendered_image=<itkImagePython.itkImageUC2; proxy of <Swig Object of type 'itkIm…"
      ]
     },
     "metadata": {},
     "output_type": "display_data"
    }
   ],
   "source": [
    "view(ascent)"
   ]
  },
  {
   "cell_type": "code",
   "execution_count": 10,
   "metadata": {},
   "outputs": [
    {
     "name": "stdout",
     "output_type": "stream",
     "text": [
      "Requirement already satisfied: itk-io in c:\\users\\moona\\anaconda3\\envs\\testpythorch\\lib\\site-packages (4.13.2.post1)\n",
      "Requirement already satisfied: requests in c:\\users\\moona\\anaconda3\\envs\\testpythorch\\lib\\site-packages (2.21.0)\n",
      "Requirement already satisfied: tqdm in c:\\users\\moona\\anaconda3\\envs\\testpythorch\\lib\\site-packages (4.31.1)\n",
      "Requirement already satisfied: itk-core in c:\\users\\moona\\anaconda3\\envs\\testpythorch\\lib\\site-packages (from itk-io) (4.13.2.post1)\n",
      "Requirement already satisfied: idna<2.9,>=2.5 in c:\\users\\moona\\anaconda3\\envs\\testpythorch\\lib\\site-packages (from requests) (2.8)\n",
      "Requirement already satisfied: certifi>=2017.4.17 in c:\\users\\moona\\anaconda3\\envs\\testpythorch\\lib\\site-packages (from requests) (2019.3.9)\n",
      "Requirement already satisfied: chardet<3.1.0,>=3.0.2 in c:\\users\\moona\\anaconda3\\envs\\testpythorch\\lib\\site-packages (from requests) (3.0.4)\n",
      "Requirement already satisfied: urllib3<1.25,>=1.21.1 in c:\\users\\moona\\anaconda3\\envs\\testpythorch\\lib\\site-packages (from requests) (1.24.1)\n"
     ]
    }
   ],
   "source": [
    "# Install dependencies for this example\n",
    "# Note: This does not include itk-jupyter-widgets, itself\n",
    "import sys\n",
    "!{sys.executable} -m pip install itk-io requests tqdm"
   ]
  },
  {
   "cell_type": "code",
   "execution_count": 11,
   "metadata": {},
   "outputs": [],
   "source": [
    "import requests\n",
    "from tqdm import tqdm_notebook as tqdm\n",
    "import os\n",
    "\n",
    "import numpy as np\n",
    "import itk\n",
    "\n",
    "from itkwidgets import view\n",
    "import itkwidgets"
   ]
  },
  {
   "cell_type": "code",
   "execution_count": 12,
   "metadata": {},
   "outputs": [],
   "source": [
    "def download_data(url, filename):\n",
    "    if not os.path.exists(filename):\n",
    "        chunk_size = 32 * 1024\n",
    "        r = requests.get(url, stream=True)\n",
    "        total_size = int(r.headers.get('content-length', 0))\n",
    "        pbar = tqdm(unit=\"B\", unit_scale=True, total=int(total_size))\n",
    "        with open(filename, 'wb') as f:\n",
    "            for chunk in r.iter_content(chunk_size=chunk_size): \n",
    "                if chunk: # filter out keep-alive new chunks\n",
    "                    pbar.update(len(chunk))\n",
    "                    f.write(chunk)\n",
    "                    \n",
    "# Download example data\n",
    "# Source: https://cvlab.epfl.ch/data/em\n",
    "#\n",
    "# 1024x768x165 unsigned char, 124MB file\n",
    "large_url = 'https://documents.epfl.ch/groups/c/cv/cvlab-unit/www/data/%20ElectronMicroscopy_Hippocampus/training.tif'\n",
    "large_filename = 'large_hippocampus.tif'\n",
    "\n",
    "# 2048x1536x1065 unsigned char, 3.2GB file\n",
    "very_large_url = 'https://documents.epfl.ch/groups/c/cv/cvlab-unit/www/data/%20ElectronMicroscopy_Hippocampus/volumedata.tif'\n",
    "very_large_filename = 'very_large_hippocampus.tif'"
   ]
  },
  {
   "cell_type": "code",
   "execution_count": 13,
   "metadata": {},
   "outputs": [
    {
     "data": {
      "application/vnd.jupyter.widget-view+json": {
       "model_id": "3d1d24f60c234a718f32fa6a8ca1ddcf",
       "version_major": 2,
       "version_minor": 0
      },
      "text/plain": [
       "HBox(children=(IntProgress(value=0, max=129919357), HTML(value='')))"
      ]
     },
     "metadata": {},
     "output_type": "display_data"
    }
   ],
   "source": [
    "download_data(large_url, large_filename)"
   ]
  },
  {
   "cell_type": "code",
   "execution_count": 14,
   "metadata": {},
   "outputs": [
    {
     "name": "stdout",
     "output_type": "stream",
     "text": [
      "Wall time: 144 ms\n"
     ]
    }
   ],
   "source": [
    "%time large_image = itk.imread(large_filename)"
   ]
  },
  {
   "cell_type": "code",
   "execution_count": 15,
   "metadata": {},
   "outputs": [
    {
     "name": "stdout",
     "output_type": "stream",
     "text": [
      "Wall time: 73.8 ms\n"
     ]
    },
    {
     "data": {
      "application/vnd.jupyter.widget-view+json": {
       "model_id": "8f55cc5c5e7f4bfe9609e9b4811d6968",
       "version_major": 2,
       "version_minor": 0
      },
      "text/plain": [
       "Viewer(annotations=False, cmap='gray_Matlab', gradient_opacity=0.4, rendered_image=<itkImagePython.itkImageUC3…"
      ]
     },
     "metadata": {},
     "output_type": "display_data"
    }
   ],
   "source": [
    "%time view(large_image, select_roi=True, gradient_opacity=0.4, shadow=False, cmap=itkwidgets.cm.gray, annotations=False)"
   ]
  },
  {
   "cell_type": "code",
   "execution_count": 16,
   "metadata": {},
   "outputs": [
    {
     "ename": "NameError",
     "evalue": "name 'very_large_image' is not defined",
     "output_type": "error",
     "traceback": [
      "\u001b[1;31m---------------------------------------------------------------------------\u001b[0m",
      "\u001b[1;31mNameError\u001b[0m                                 Traceback (most recent call last)",
      "\u001b[1;32m<timed eval>\u001b[0m in \u001b[0;36m<module>\u001b[1;34m\u001b[0m\n",
      "\u001b[1;31mNameError\u001b[0m: name 'very_large_image' is not defined"
     ]
    }
   ],
   "source": [
    "size_limit_3d = [128, 128, 128]\n",
    "%time view(very_large_image, size_limit_3d=size_limit_3d, gradient_opacity=0.3, shadow=False, cmap=itkwidgets.cm.gray, annotations=False)"
   ]
  },
  {
   "cell_type": "code",
   "execution_count": 17,
   "metadata": {},
   "outputs": [
    {
     "ename": "NameError",
     "evalue": "name 'very_large_image' is not defined",
     "output_type": "error",
     "traceback": [
      "\u001b[1;31m---------------------------------------------------------------------------\u001b[0m",
      "\u001b[1;31mNameError\u001b[0m                                 Traceback (most recent call last)",
      "\u001b[1;32m<timed eval>\u001b[0m in \u001b[0;36m<module>\u001b[1;34m\u001b[0m\n",
      "\u001b[1;31mNameError\u001b[0m: name 'very_large_image' is not defined"
     ]
    }
   ],
   "source": [
    "%time view(very_large_image, gradient_opacity=0.4, shadow=False, cmap=itkwidgets.cm.gray, annotations=False)"
   ]
  },
  {
   "cell_type": "code",
   "execution_count": null,
   "metadata": {},
   "outputs": [],
   "source": []
  }
 ],
 "metadata": {
  "kernelspec": {
   "display_name": "Python 3",
   "language": "python",
   "name": "python3"
  },
  "language_info": {
   "codemirror_mode": {
    "name": "ipython",
    "version": 3
   },
   "file_extension": ".py",
   "mimetype": "text/x-python",
   "name": "python",
   "nbconvert_exporter": "python",
   "pygments_lexer": "ipython3",
   "version": "3.6.0"
  }
 },
 "nbformat": 4,
 "nbformat_minor": 2
}
